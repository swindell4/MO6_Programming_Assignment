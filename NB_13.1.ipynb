{
 "cells": [
  {
   "cell_type": "code",
   "execution_count": null,
   "id": "26a3fe53-ca6f-43b3-b7f9-77f9b0c9589c",
   "metadata": {},
   "outputs": [],
   "source": [
    "import datetime \n",
    "\n",
    "file = open(\"today.txt\", \"w\") \n",
    "currentDate = datetime.datetime.now().date() \n",
    "currentDate = currentDate.strftime(\"%Y-%m-%d\") \n",
    "file.write(currentDate) "
   ]
  }
 ],
 "metadata": {
  "kernelspec": {
   "display_name": "Python 3 (ipykernel)",
   "language": "python",
   "name": "python3"
  },
  "language_info": {
   "codemirror_mode": {
    "name": "ipython",
    "version": 3
   },
   "file_extension": ".py",
   "mimetype": "text/x-python",
   "name": "python",
   "nbconvert_exporter": "python",
   "pygments_lexer": "ipython3",
   "version": "3.11.7"
  }
 },
 "nbformat": 4,
 "nbformat_minor": 5
}
