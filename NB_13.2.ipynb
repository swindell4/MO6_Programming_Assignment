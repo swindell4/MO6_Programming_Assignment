{
 "cells": [
  {
   "cell_type": "code",
   "execution_count": null,
   "id": "77553d54-7d3a-4acc-94d5-46fdabfedb3d",
   "metadata": {},
   "outputs": [],
   "source": [
    "def readtxt(): \n",
    "   file = open(\"today.txt\", \"r\") \n",
    "   today_string = file.read() \n",
    "   return today_string \n",
    "readtxt() "
   ]
  }
 ],
 "metadata": {
  "kernelspec": {
   "display_name": "Python 3 (ipykernel)",
   "language": "python",
   "name": "python3"
  },
  "language_info": {
   "codemirror_mode": {
    "name": "ipython",
    "version": 3
   },
   "file_extension": ".py",
   "mimetype": "text/x-python",
   "name": "python",
   "nbconvert_exporter": "python",
   "pygments_lexer": "ipython3",
   "version": "3.11.7"
  }
 },
 "nbformat": 4,
 "nbformat_minor": 5
}
