{
 "cells": [
  {
   "cell_type": "code",
   "execution_count": null,
   "id": "755b3550-7426-4961-8317-1a0e34c7286e",
   "metadata": {},
   "outputs": [],
   "source": [
    "import datetime \n",
    "import e_13_2 \n",
    "\n",
    "today_string = e_13_2.readtxt()\n",
    "parsed_time = datetime.datetime.strptime(e_13_2.readtxt(), \"%Y-%m-%d\") "
   ]
  }
 ],
 "metadata": {
  "kernelspec": {
   "display_name": "Python 3 (ipykernel)",
   "language": "python",
   "name": "python3"
  },
  "language_info": {
   "codemirror_mode": {
    "name": "ipython",
    "version": 3
   },
   "file_extension": ".py",
   "mimetype": "text/x-python",
   "name": "python",
   "nbconvert_exporter": "python",
   "pygments_lexer": "ipython3",
   "version": "3.11.7"
  }
 },
 "nbformat": 4,
 "nbformat_minor": 5
}
