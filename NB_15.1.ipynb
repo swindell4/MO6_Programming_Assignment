{
 "cells": [
  {
   "cell_type": "code",
   "execution_count": null,
   "id": "56f38fd9-1c67-4b02-b223-854716baad33",
   "metadata": {},
   "outputs": [],
   "source": [
    "import datetime \n",
    "import multiprocessing\n",
    "import random \n",
    "import time \n",
    "\n",
    "def differentCounting(now): \n",
    "    now = datetime.datetime.now().strftime(\"%Y-%m-%d %H:%M:%S\") \n",
    "    print(now) \n",
    "now = 0 \n",
    "wait = 0 \n",
    "if __name__ == \"__main__\": \n",
    "   wait = random.randint(0, 1) \n",
    "   time.sleep(wait) \n",
    "   one = multiprocessing.Process(target = differentCounting(now)) \n",
    "   wait = random.randint(0, 1) \n",
    "   time.sleep(wait) \n",
    "   two = multiprocessing.Process(target = differentCounting(now)) \n",
    "   wait = random.randint(0, 1) \n",
    "   time.sleep(wait) \n",
    "   three = multiprocessing.Process(target = differentCounting(now)) "
   ]
  }
 ],
 "metadata": {
  "kernelspec": {
   "display_name": "Python 3 (ipykernel)",
   "language": "python",
   "name": "python3"
  },
  "language_info": {
   "codemirror_mode": {
    "name": "ipython",
    "version": 3
   },
   "file_extension": ".py",
   "mimetype": "text/x-python",
   "name": "python",
   "nbconvert_exporter": "python",
   "pygments_lexer": "ipython3",
   "version": "3.11.7"
  }
 },
 "nbformat": 4,
 "nbformat_minor": 5
}
